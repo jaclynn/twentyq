{
 "cells": [
  {
   "cell_type": "code",
   "execution_count": 39,
   "metadata": {
    "collapsed": true
   },
   "outputs": [
    {
     "name": "stdout",
     "output_type": "stream",
     "text": [
      "1.3.2\n"
     ]
    },
    {
     "data": {
      "text/plain": "   Answer Does it like milk? Does it have four legs? Does it like bones?  \\\n0   a cat                yes                     yes                  no   \n1   a dog                 no                      no                 yes   \n2  a fish                 no                     yes                  no   \n3  a bird                 no                      no                  no   \n\n  Can it swim? Does it have fur?  \n0          yes               yes  \n1          yes               yes  \n2          yes                no  \n3           no                no  ",
      "text/html": "<div>\n<style scoped>\n    .dataframe tbody tr th:only-of-type {\n        vertical-align: middle;\n    }\n\n    .dataframe tbody tr th {\n        vertical-align: top;\n    }\n\n    .dataframe thead th {\n        text-align: right;\n    }\n</style>\n<table border=\"1\" class=\"dataframe\">\n  <thead>\n    <tr style=\"text-align: right;\">\n      <th></th>\n      <th>Answer</th>\n      <th>Does it like milk?</th>\n      <th>Does it have four legs?</th>\n      <th>Does it like bones?</th>\n      <th>Can it swim?</th>\n      <th>Does it have fur?</th>\n    </tr>\n  </thead>\n  <tbody>\n    <tr>\n      <th>0</th>\n      <td>a cat</td>\n      <td>yes</td>\n      <td>yes</td>\n      <td>no</td>\n      <td>yes</td>\n      <td>yes</td>\n    </tr>\n    <tr>\n      <th>1</th>\n      <td>a dog</td>\n      <td>no</td>\n      <td>no</td>\n      <td>yes</td>\n      <td>yes</td>\n      <td>yes</td>\n    </tr>\n    <tr>\n      <th>2</th>\n      <td>a fish</td>\n      <td>no</td>\n      <td>yes</td>\n      <td>no</td>\n      <td>yes</td>\n      <td>no</td>\n    </tr>\n    <tr>\n      <th>3</th>\n      <td>a bird</td>\n      <td>no</td>\n      <td>no</td>\n      <td>no</td>\n      <td>no</td>\n      <td>no</td>\n    </tr>\n  </tbody>\n</table>\n</div>"
     },
     "execution_count": 39,
     "metadata": {},
     "output_type": "execute_result"
    }
   ],
   "source": [
    "import pandas as pd\n",
    "print(pd.__version__)\n",
    "gamedata = pd.read_csv('gamedata.csv')\n",
    "gamedata['Does it have fur?'] = \"unknown\"\n",
    "animal = {\n",
    "    'Answer':'a bird',\n",
    "    'Does it like milk?':'no',\n",
    "    'Does it have four legs?':'no',\n",
    "    'Does it like bones?':'no',\n",
    "    'Can it swim?':'no',\n",
    "    'Does it have fur?':'no',\n",
    "}\n",
    "gamedata = gamedata.append(animal, ignore_index=True)\n",
    "gamedata\n",
    "gamedata.at[0, \"Does it have fur?\"] = \"yes\"\n",
    "gamedata.at[1, \"Does it have fur?\"] = \"yes\"\n",
    "gamedata.at[2, \"Does it have fur?\"] = \"no\"\n",
    "\n",
    "gamedata"
   ]
  }
 ],
 "metadata": {
  "kernelspec": {
   "display_name": "Python 3",
   "language": "python",
   "name": "python3"
  },
  "language_info": {
   "codemirror_mode": {
    "name": "ipython",
    "version": 2
   },
   "file_extension": ".py",
   "mimetype": "text/x-python",
   "name": "python",
   "nbconvert_exporter": "python",
   "pygments_lexer": "ipython2",
   "version": "2.7.6"
  }
 },
 "nbformat": 4,
 "nbformat_minor": 0
}