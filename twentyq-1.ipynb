{
 "cells": [
  {
   "cell_type": "code",
   "execution_count": 81,
   "metadata": {
    "collapsed": true,
    "pycharm": {
     "name": "#%%\n"
    }
   },
   "outputs": [
    {
     "name": "stdout",
     "output_type": "stream",
     "text": [
      "1.3.2\n"
     ]
    }
   ],
   "source": [
    "import pandas as pd\n",
    "print(pd.__version__)\n",
    "gamedata = pd.read_csv('gamedata_out.csv')\n",
    "\n",
    "def newanimal():\n",
    "    global gamedata\n",
    "    animal = {}\n",
    "    animal['Answer'] = input(\"What animal are you thinking of? (a/an): \")\n",
    "    size = len(gamedata.columns)\n",
    "    for i in range(1,size):\n",
    "        q = gamedata.columns[i]\n",
    "        animal[q]=input(q + ' ')\n",
    "    gamedata = gamedata.append(animal, ignore_index=True)\n",
    "\n",
    "def newquestion():\n",
    "    q = input(\"Enter a new question: \")\n",
    "    gamedata[q] = None\n",
    "\n",
    "def fillblanks():\n",
    "    questions = gamedata.columns[1:]\n",
    "    for q in questions:\n",
    "        if gamedata[q].isnull().any():\n",
    "            unanswered = gamedata[gamedata[q].isnull()].index.tolist()\n",
    "            for i in unanswered:\n",
    "                prompt = \"For \" + gamedata.iloc[i]['Answer'] + ', ' + q\n",
    "                answer = input(prompt)\n",
    "                gamedata.at[i, q] = answer\n",
    "newanimal()\n",
    "gamedata\n",
    "newquestion()\n",
    "fillblanks()\n",
    "gamedata.to_csv(\"newgamedata.csv\", index=False)"
   ]
  }
 ],
 "metadata": {
  "kernelspec": {
   "display_name": "Python 3",
   "language": "python",
   "name": "python3"
  },
  "language_info": {
   "codemirror_mode": {
    "name": "ipython",
    "version": 2
   },
   "file_extension": ".py",
   "mimetype": "text/x-python",
   "name": "python",
   "nbconvert_exporter": "python",
   "pygments_lexer": "ipython2",
   "version": "2.7.6"
  }
 },
 "nbformat": 4,
 "nbformat_minor": 0
}