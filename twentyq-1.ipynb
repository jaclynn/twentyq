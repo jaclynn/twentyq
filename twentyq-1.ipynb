{
 "cells": [
  {
   "cell_type": "code",
   "execution_count": 106,
   "metadata": {
    "collapsed": true,
    "pycharm": {
     "name": "#%%\n"
    }
   },
   "outputs": [
    {
     "name": "stdout",
     "output_type": "stream",
     "text": [
      "1.3.2\n",
      "Filtered: [0, 2, 4]\n",
      "Random Animal 4\n",
      "Filtered: [0, 4]\n",
      "Random Animal 0\n"
     ]
    }
   ],
   "source": [
    "import random\n",
    "import pandas as pd\n",
    "print(pd.__version__)\n",
    "gamedata = pd.read_csv('newgamedata.csv')\n",
    "\n",
    "questions = gamedata.columns[1:]\n",
    "questions = list(questions)\n",
    "random.shuffle(questions)\n",
    "results = gamedata\n",
    "\n",
    "\n",
    "def make_guess():\n",
    "    global results\n",
    "    question = questions.pop()\n",
    "    answer = input(question)\n",
    "    results = results[results[question] == answer]\n",
    "\n",
    "filtered_animals = results.index.to_list()\n",
    "while len(filtered_animals) >= 1:\n",
    "    make_guess()\n",
    "    filtered_animals = results.index.to_list()\n",
    "    print(\"Filtered:\",filtered_animals)\n",
    "    random_animal = random.choice(filtered_animals)\n",
    "    print(\"Random Animal\",random_animal)\n",
    "    if filtered_animals:\n",
    "        guess = gamedata.iloc[random_animal]['Answer']\n",
    "        yn = input(\"Is your animal \" + guess + \"?\")\n",
    "        if yn=='y':\n",
    "            break\n",
    "    else:\n",
    "        print(\"no animals match your criteria\")"
   ]
  }
 ],
 "metadata": {
  "kernelspec": {
   "display_name": "Python 3",
   "language": "python",
   "name": "python3"
  },
  "language_info": {
   "codemirror_mode": {
    "name": "ipython",
    "version": 2
   },
   "file_extension": ".py",
   "mimetype": "text/x-python",
   "name": "python",
   "nbconvert_exporter": "python",
   "pygments_lexer": "ipython2",
   "version": "2.7.6"
  }
 },
 "nbformat": 4,
 "nbformat_minor": 0
}