{
 "cells": [
  {
   "cell_type": "code",
   "execution_count": 45,
   "metadata": {
    "collapsed": true
   },
   "outputs": [
    {
     "name": "stdout",
     "output_type": "stream",
     "text": [
      "1.3.2\n"
     ]
    }
   ],
   "source": [
    "import pandas as pd\n",
    "print(pd.__version__)\n",
    "gamedata = pd.read_csv('gamedata.csv')\n",
    "gamedata['Does it have fur?'] = \"unknown\"\n",
    "animal = {\n",
    "    'Answer':'a bird',\n",
    "    'Does it like milk?':'no',\n",
    "    'Does it have four legs?':'no',\n",
    "    'Does it like bones?':'no',\n",
    "    'Can it swim?':'no',\n",
    "    'Does it have fur?':'no',\n",
    "}\n",
    "gamedata = gamedata.append(animal, ignore_index=True)\n",
    "gamedata\n",
    "gamedata.at[0, \"Does it have fur?\"] = \"yes\"\n",
    "gamedata.at[1, \"Does it have fur?\"] = \"yes\"\n",
    "gamedata.at[2, \"Does it have fur?\"] = \"no\"\n",
    "\n",
    "#gamedata"
   ]
  },
  {
   "cell_type": "code",
   "execution_count": 46,
   "outputs": [],
   "source": [
    "gamedata.to_csv(\"gamedata_out.csv\",index=False)"
   ],
   "metadata": {
    "collapsed": false,
    "pycharm": {
     "name": "#%%\n"
    }
   }
  }
 ],
 "metadata": {
  "kernelspec": {
   "display_name": "Python 3",
   "language": "python",
   "name": "python3"
  },
  "language_info": {
   "codemirror_mode": {
    "name": "ipython",
    "version": 2
   },
   "file_extension": ".py",
   "mimetype": "text/x-python",
   "name": "python",
   "nbconvert_exporter": "python",
   "pygments_lexer": "ipython2",
   "version": "2.7.6"
  }
 },
 "nbformat": 4,
 "nbformat_minor": 0
}